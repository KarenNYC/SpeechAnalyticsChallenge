{
 "cells": [
  {
   "cell_type": "code",
   "execution_count": 2,
   "metadata": {},
   "outputs": [
    {
     "name": "stdout",
     "output_type": "stream",
     "text": [
      "Transcript: how old is the Brooklyn Bridge\n"
     ]
    }
   ],
   "source": [
    "from google.cloud import speech_v1p1beta1 as speech\n",
    "import os\n",
    "os.environ['GOOGLE_APPLICATION_CREDENTIALS']='rich-suprstate-311107-b521ee51d373.json'\n",
    "\n",
    "client = speech.SpeechClient()\n",
    "encoding=speech.enums.RecognitionConfig.AudioEncoding\n",
    "\n",
    "input = \"stt_success/audio.raw\"\n",
    "\n",
    "config = {\n",
    "    \"language_code\": 'en-US',\n",
    "    \"encoding\": encoding.LINEAR16,\n",
    "    \"sample_rate_hertz\": 22050,\n",
    "    \"speech_contexts\": []\n",
    "}\n",
    "\n",
    "with open(input, \"rb\") as f:\n",
    "    audio = {\"content\": f.read()}\n",
    "    \n",
    "response = client.recognize(config, audio)\n",
    "\n",
    "for result in response.results: \n",
    "    print('Transcript: {}'.format(result.alternatives[0].transcript))"
   ]
  },
  {
   "cell_type": "markdown",
   "metadata": {},
   "source": [
    "## Cantonese samples"
   ]
  },
  {
   "cell_type": "code",
   "execution_count": 3,
   "metadata": {},
   "outputs": [
    {
     "name": "stdout",
     "output_type": "stream",
     "text": [
      "Transcript: 我想check一check我嘅mpf account同埋有幾多錢唔該\n"
     ]
    }
   ],
   "source": [
    "input = \"stt_success/MPF check restaurant surroundings.wav\"\n",
    "\n",
    "config = {\n",
    "    \"language_code\": 'yue-Hant-HK',\n",
    "    \"encoding\": encoding.LINEAR16,\n",
    "    \"sample_rate_hertz\": 44100,\n",
    "    \"audio_channel_count\":1,\n",
    "#     \"enable_speaker_diarization\":True,\n",
    "#     \"enable_word_time_offsets\":True,\n",
    "#     \"diarization_speaker_count\":2,\n",
    "}\n",
    "\n",
    "with open(input, \"rb\") as f:\n",
    "    audio = {\"content\": f.read()}\n",
    "    \n",
    "response = client.recognize(config, audio)\n",
    "\n",
    "for result in response.results: \n",
    "    print('Transcript: {}'.format(result.alternatives[0].transcript))"
   ]
  },
  {
   "cell_type": "code",
   "execution_count": null,
   "metadata": {},
   "outputs": [],
   "source": []
  }
 ],
 "metadata": {
  "kernelspec": {
   "display_name": "py35",
   "language": "python",
   "name": "py3.5"
  },
  "language_info": {
   "codemirror_mode": {
    "name": "ipython",
    "version": 3
   },
   "file_extension": ".py",
   "mimetype": "text/x-python",
   "name": "python",
   "nbconvert_exporter": "python",
   "pygments_lexer": "ipython3",
   "version": "3.5.6"
  }
 },
 "nbformat": 4,
 "nbformat_minor": 4
}
